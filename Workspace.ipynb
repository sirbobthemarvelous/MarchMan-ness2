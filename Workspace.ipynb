{
 "cells": [
  {
   "cell_type": "markdown",
   "id": "11814068-5c4e-469e-94c7-d811c3b88333",
   "metadata": {},
   "source": [
    "# This is where you import libraries + csv Data"
   ]
  },
  {
   "cell_type": "code",
   "execution_count": 1,
   "id": "ec665f78-f639-4239-83e5-92932916c494",
   "metadata": {},
   "outputs": [],
   "source": [
    "import pandas as pd"
   ]
  },
  {
   "cell_type": "code",
   "execution_count": 2,
   "id": "fb65d77c-f18f-4374-81e6-02e9f59a5ec5",
   "metadata": {},
   "outputs": [
    {
     "data": {
      "text/html": [
       "<div>\n",
       "<style scoped>\n",
       "    .dataframe tbody tr th:only-of-type {\n",
       "        vertical-align: middle;\n",
       "    }\n",
       "\n",
       "    .dataframe tbody tr th {\n",
       "        vertical-align: top;\n",
       "    }\n",
       "\n",
       "    .dataframe thead th {\n",
       "        text-align: right;\n",
       "    }\n",
       "</style>\n",
       "<table border=\"1\" class=\"dataframe\">\n",
       "  <thead>\n",
       "    <tr style=\"text-align: right;\">\n",
       "      <th></th>\n",
       "      <th>Timestamp</th>\n",
       "      <th>Unnamed: 1</th>\n",
       "      <th>Unnamed: 2</th>\n",
       "    </tr>\n",
       "  </thead>\n",
       "  <tbody>\n",
       "    <tr>\n",
       "      <th>0</th>\n",
       "      <td>4/17/2023 8:59:33</td>\n",
       "      <td>Amicus [Adastra]</td>\n",
       "      <td>Dave [Password]</td>\n",
       "    </tr>\n",
       "    <tr>\n",
       "      <th>1</th>\n",
       "      <td>4/17/2023 9:01:34</td>\n",
       "      <td>Lyall [Lyre]</td>\n",
       "      <td>Dave [Password]</td>\n",
       "    </tr>\n",
       "    <tr>\n",
       "      <th>2</th>\n",
       "      <td>4/17/2023 9:01:42</td>\n",
       "      <td>NaN</td>\n",
       "      <td>Dave [Password]</td>\n",
       "    </tr>\n",
       "    <tr>\n",
       "      <th>3</th>\n",
       "      <td>4/17/2023 9:01:45</td>\n",
       "      <td>Lyall [Lyre]</td>\n",
       "      <td>Dave [Password]</td>\n",
       "    </tr>\n",
       "    <tr>\n",
       "      <th>4</th>\n",
       "      <td>4/17/2023 9:01:55</td>\n",
       "      <td>Amicus [Adastra]</td>\n",
       "      <td>Dave [Password]</td>\n",
       "    </tr>\n",
       "    <tr>\n",
       "      <th>...</th>\n",
       "      <td>...</td>\n",
       "      <td>...</td>\n",
       "      <td>...</td>\n",
       "    </tr>\n",
       "    <tr>\n",
       "      <th>115</th>\n",
       "      <td>4/19/2023 7:24:56</td>\n",
       "      <td>Lyall [Lyre]</td>\n",
       "      <td>Nik [The Smoke Room]</td>\n",
       "    </tr>\n",
       "    <tr>\n",
       "      <th>116</th>\n",
       "      <td>4/19/2023 9:16:05</td>\n",
       "      <td>Amicus [Adastra]</td>\n",
       "      <td>NaN</td>\n",
       "    </tr>\n",
       "    <tr>\n",
       "      <th>117</th>\n",
       "      <td>4/19/2023 15:39:18</td>\n",
       "      <td>Amicus [Adastra]</td>\n",
       "      <td>Nik [The Smoke Room]</td>\n",
       "    </tr>\n",
       "    <tr>\n",
       "      <th>118</th>\n",
       "      <td>4/20/2023 14:09:55</td>\n",
       "      <td>Lyall [Lyre]</td>\n",
       "      <td>Nik [The Smoke Room]</td>\n",
       "    </tr>\n",
       "    <tr>\n",
       "      <th>119</th>\n",
       "      <td>4/20/2023 18:31:44</td>\n",
       "      <td>Amicus [Adastra]</td>\n",
       "      <td>Nik [The Smoke Room]</td>\n",
       "    </tr>\n",
       "  </tbody>\n",
       "</table>\n",
       "<p>120 rows × 3 columns</p>\n",
       "</div>"
      ],
      "text/plain": [
       "              Timestamp        Unnamed: 1            Unnamed: 2\n",
       "0     4/17/2023 8:59:33  Amicus [Adastra]       Dave [Password]\n",
       "1     4/17/2023 9:01:34      Lyall [Lyre]       Dave [Password]\n",
       "2     4/17/2023 9:01:42               NaN       Dave [Password]\n",
       "3     4/17/2023 9:01:45      Lyall [Lyre]       Dave [Password]\n",
       "4     4/17/2023 9:01:55  Amicus [Adastra]       Dave [Password]\n",
       "..                  ...               ...                   ...\n",
       "115   4/19/2023 7:24:56      Lyall [Lyre]  Nik [The Smoke Room]\n",
       "116   4/19/2023 9:16:05  Amicus [Adastra]                   NaN\n",
       "117  4/19/2023 15:39:18  Amicus [Adastra]  Nik [The Smoke Room]\n",
       "118  4/20/2023 14:09:55      Lyall [Lyre]  Nik [The Smoke Room]\n",
       "119  4/20/2023 18:31:44  Amicus [Adastra]  Nik [The Smoke Room]\n",
       "\n",
       "[120 rows x 3 columns]"
      ]
     },
     "execution_count": 2,
     "metadata": {},
     "output_type": "execute_result"
    }
   ],
   "source": [
    "df = pd.read_csv('./csvData/HeavyPlushie4.csv')\n",
    "df"
   ]
  },
  {
   "cell_type": "markdown",
   "id": "86b5c6eb-297a-4a5a-a31c-f7bfc8e4ac70",
   "metadata": {},
   "source": [
    "# This is where you Create the Lists"
   ]
  },
  {
   "cell_type": "code",
   "execution_count": 3,
   "id": "1dce004e-43ce-4200-9b46-e9b976bf1ac3",
   "metadata": {},
   "outputs": [
    {
     "data": {
      "text/plain": [
       "0      Amicus [Adastra]\n",
       "1          Lyall [Lyre]\n",
       "2                   NaN\n",
       "3          Lyall [Lyre]\n",
       "4      Amicus [Adastra]\n",
       "             ...       \n",
       "115        Lyall [Lyre]\n",
       "116    Amicus [Adastra]\n",
       "117    Amicus [Adastra]\n",
       "118        Lyall [Lyre]\n",
       "119    Amicus [Adastra]\n",
       "Name: Unnamed: 1, Length: 120, dtype: object"
      ]
     },
     "execution_count": 3,
     "metadata": {},
     "output_type": "execute_result"
    }
   ],
   "source": [
    "match1 = df[\"Unnamed: 1\"]\n",
    "match1"
   ]
  },
  {
   "cell_type": "code",
   "execution_count": 4,
   "id": "d9550534-a9a3-4b80-afdf-9af8f64af311",
   "metadata": {},
   "outputs": [
    {
     "name": "stdout",
     "output_type": "stream",
     "text": [
      "[1, 1, 1, 1, 2, 3, 4, 4, 5, 6, 6, 6, 7, 8, 8, 9, 10, 11, 12, 13, 14, 14, 15, 16, 17, 17, 18, 18, 18, 18, 19, 19, 20, 20, 21, 21, 22, 22, 23, 23, 23, 24, 24, 25, 25, 25, 25, 26, 26, 27, 28, 29, 29, 30, 31, 31, 32, 33, 34, 34, 34, 35, 36, 37, 37, 38, 38, 38, 39, 40, 41, 42, 42, 43, 44, 45, 46, 47, 48, 48, 48, 49, 50, 51, 51, 51, 52, 53, 53, 54, 54, 55, 55, 55, 56, 56, 57, 58, 58, 59, 59, 60, 60, 61, 61, 62, 62, 62, 63, 63, 64, 64, 64, 64, 64, 64, 65, 66, 66, 67]\n"
     ]
    }
   ],
   "source": [
    "amicusList = []\n",
    "amicusCount = 0\n",
    "for index, value in match1.items():\n",
    "    if(value == \"Amicus [Adastra]\"):\n",
    "        amicusCount+=1\n",
    "    amicusList.append(amicusCount)\n",
    "    \n",
    "print(amicusList)"
   ]
  },
  {
   "cell_type": "code",
   "execution_count": 5,
   "id": "0a97939e-fe54-4d5f-8bbd-9423322827c3",
   "metadata": {},
   "outputs": [
    {
     "name": "stdout",
     "output_type": "stream",
     "text": [
      "[0, 1, 1, 2, 2, 2, 2, 3, 3, 3, 4, 5, 5, 5, 6, 6, 6, 6, 6, 6, 6, 7, 7, 7, 7, 8, 8, 9, 10, 11, 11, 12, 12, 13, 13, 14, 14, 15, 15, 16, 17, 17, 18, 18, 19, 20, 21, 21, 22, 22, 22, 22, 23, 23, 23, 24, 24, 24, 24, 25, 26, 26, 26, 26, 27, 27, 28, 29, 29, 29, 29, 29, 30, 30, 30, 30, 30, 30, 30, 31, 32, 32, 32, 32, 33, 34, 34, 34, 35, 35, 36, 36, 37, 38, 38, 39, 39, 39, 40, 40, 41, 41, 42, 42, 43, 43, 44, 45, 45, 46, 46, 47, 48, 49, 50, 51, 51, 51, 52, 52]\n"
     ]
    }
   ],
   "source": [
    "lyallList = []\n",
    "lyallCount = 0\n",
    "for index, value in match1.items():\n",
    "    if(value == \"Lyall [Lyre]\"):\n",
    "        lyallCount+=1\n",
    "    lyallList.append(lyallCount)\n",
    "    \n",
    "print(lyallList)"
   ]
  },
  {
   "cell_type": "code",
   "execution_count": 6,
   "id": "37423924-2ca0-4b85-882d-97e7d7a5a668",
   "metadata": {},
   "outputs": [
    {
     "name": "stdout",
     "output_type": "stream",
     "text": [
      "[1, 2, 3, 4, 5, 6, 7, 8, 9, 10, 11, 12, 13, 14, 15, 16, 17, 18, 19, 20, 21, 22, 23, 24, 25, 26, 27, 28, 29, 30, 31, 32, 33, 34, 35, 36, 37, 38, 39, 40, 41, 42, 43, 44, 45, 46, 47, 48, 49, 50, 51, 52, 53, 54, 55, 56, 57, 58, 59, 60, 61, 62, 63, 64, 65, 66, 67, 68, 69, 70, 71, 72, 73, 74, 75, 76, 77, 78, 79, 80, 81, 82, 83, 84, 85, 86, 87, 88, 89, 90, 91, 92, 93, 94, 95, 96, 97, 98, 99, 100, 101, 102, 103, 104, 105, 106, 107, 108, 109, 110, 111, 112, 113, 114, 115, 116, 117, 118, 119, 120]\n"
     ]
    }
   ],
   "source": [
    "x = []\n",
    "for i in range(120):\n",
    "    x.append(i+1)\n",
    "print(x)"
   ]
  },
  {
   "cell_type": "code",
   "execution_count": 7,
   "id": "d5cfa190-92a0-4074-85a9-0122a5f507fc",
   "metadata": {},
   "outputs": [
    {
     "data": {
      "text/plain": [
       "0           Dave [Password]\n",
       "1           Dave [Password]\n",
       "2           Dave [Password]\n",
       "3           Dave [Password]\n",
       "4           Dave [Password]\n",
       "               ...         \n",
       "115    Nik [The Smoke Room]\n",
       "116                     NaN\n",
       "117    Nik [The Smoke Room]\n",
       "118    Nik [The Smoke Room]\n",
       "119    Nik [The Smoke Room]\n",
       "Name: Unnamed: 2, Length: 120, dtype: object"
      ]
     },
     "execution_count": 7,
     "metadata": {},
     "output_type": "execute_result"
    }
   ],
   "source": [
    "match2 = df[\"Unnamed: 2\"]\n",
    "match2"
   ]
  },
  {
   "cell_type": "code",
   "execution_count": 8,
   "id": "db350093-e066-4d22-96bb-3e20b27016dd",
   "metadata": {},
   "outputs": [
    {
     "name": "stdout",
     "output_type": "stream",
     "text": [
      "[1, 2, 3, 4, 5, 5, 6, 7, 7, 7, 8, 9, 9, 10, 10, 10, 10, 10, 10, 10, 10, 11, 11, 11, 11, 12, 12, 13, 14, 15, 15, 15, 15, 16, 16, 16, 16, 16, 16, 16, 17, 17, 18, 18, 19, 20, 21, 21, 22, 23, 24, 24, 24, 24, 24, 24, 24, 24, 24, 25, 26, 27, 28, 29, 29, 29, 29, 30, 30, 30, 30, 30, 30, 31, 32, 32, 32, 32, 32, 32, 32, 32, 32, 33, 33, 34, 34, 35, 36, 36, 37, 38, 38, 38, 38, 38, 39, 39, 40, 40, 40, 40, 41, 41, 41, 42, 42, 43, 44, 44, 44, 45, 46, 46, 46, 46, 46, 46, 46, 46]\n"
     ]
    }
   ],
   "source": [
    "daveList = []\n",
    "daveCount = 0\n",
    "for index, value in match2.items():\n",
    "    if(value == \"Dave [Password]\"):\n",
    "        daveCount+=1\n",
    "    daveList.append(daveCount)\n",
    "    \n",
    "print(daveList)"
   ]
  },
  {
   "cell_type": "code",
   "execution_count": 9,
   "id": "1349f450-823a-46ba-a6c1-3ebed128bab7",
   "metadata": {},
   "outputs": [
    {
     "name": "stdout",
     "output_type": "stream",
     "text": [
      "[0, 0, 0, 0, 0, 1, 1, 1, 2, 3, 3, 3, 4, 4, 5, 6, 7, 8, 9, 10, 11, 11, 12, 13, 14, 14, 15, 15, 15, 15, 16, 17, 18, 18, 19, 20, 21, 22, 23, 24, 24, 25, 25, 26, 26, 26, 26, 27, 27, 27, 27, 28, 29, 30, 31, 32, 33, 34, 35, 35, 35, 35, 35, 35, 35, 36, 37, 37, 38, 39, 40, 41, 42, 42, 42, 43, 43, 44, 45, 46, 47, 48, 49, 49, 50, 50, 51, 51, 51, 52, 52, 52, 53, 54, 55, 56, 56, 57, 57, 58, 58, 59, 59, 60, 61, 61, 62, 62, 62, 63, 64, 64, 64, 65, 66, 67, 67, 68, 69, 70]\n"
     ]
    }
   ],
   "source": [
    "nikList = []\n",
    "nikCount = 0\n",
    "for index, value in match2.items():\n",
    "    if(value == \"Nik [The Smoke Room]\"):\n",
    "        nikCount+=1\n",
    "    nikList.append(nikCount)\n",
    "    \n",
    "print(nikList)"
   ]
  },
  {
   "cell_type": "markdown",
   "id": "4a51537f-ce10-40b5-b4b8-693e8f105e60",
   "metadata": {},
   "source": [
    "# This is where you animate and Save to Gif"
   ]
  },
  {
   "cell_type": "code",
   "execution_count": 10,
   "id": "65bbbbee-b3e8-4c09-af88-1ff718f49080",
   "metadata": {},
   "outputs": [],
   "source": [
    "import matplotlib.pyplot as plt\n",
    "import matplotlib\n",
    "from matplotlib import animation\n",
    "from matplotlib.animation import FuncAnimation\n",
    "%matplotlib qt"
   ]
  },
  {
   "cell_type": "code",
   "execution_count": 11,
   "id": "eb810cf0-5e10-4006-aaa6-5216291373ff",
   "metadata": {},
   "outputs": [],
   "source": [
    "upDownB, upDownA, leftRight = [],[],[]\n",
    "fig = plt.figure(figsize=(10,8))\n",
    "axes = fig.add_subplot(1,1,1)\n",
    "axes.set_ylim(0, 70)\n",
    "axes.set_xlim(0, 120)\n",
    "plt.style.use(\"seaborn\")"
   ]
  },
  {
   "cell_type": "code",
   "execution_count": 12,
   "id": "7c7e1064-b2d6-4537-aa36-c800310eb4e9",
   "metadata": {},
   "outputs": [],
   "source": [
    "def animate(i):\n",
    "    if(i ==0): plt.legend()\n",
    "    \n",
    "    upDownB.append(nikList[i])\n",
    "    upDownA.append(daveList[i])\n",
    "    leftRight.append(x[i])\n",
    "    plt.plot(leftRight,upDownB, scaley=True, scalex=True,color = \"blue\", label = \"Nik\")\n",
    "    plt.plot(leftRight,upDownA, scaley=True, scalex=True,color=\"red\", label = \"Dave\")\n",
    "    if(i >= 120): \n",
    "        #FuncAnimation.pause()\n",
    "        plt.close()\n",
    "        return\n",
    "    \n",
    "    \n",
    "ani = FuncAnimation(fig=fig, func=animate, interval=800, save_count=120)\n",
    "#ani.show"
   ]
  },
  {
   "cell_type": "code",
   "execution_count": 13,
   "id": "b8ab281c-da57-4308-98f2-2b5d05eabe26",
   "metadata": {},
   "outputs": [
    {
     "name": "stderr",
     "output_type": "stream",
     "text": [
      "No artists with labels found to put in legend.  Note that artists whose label start with an underscore are ignored when legend() is called with no argument.\n"
     ]
    }
   ],
   "source": [
    "f = \"heavyPlushie16.gif\" \n",
    "writergif = animation.PillowWriter(fps=15) \n",
    "ani.save(f, writer=writergif)\n",
    "#Oh my goodness it still works despite the errors"
   ]
  },
  {
   "cell_type": "code",
   "execution_count": null,
   "id": "d343eab4-5ef8-4a94-b080-8a76a4777820",
   "metadata": {},
   "outputs": [],
   "source": []
  },
  {
   "cell_type": "code",
   "execution_count": 14,
   "id": "41182fb0-6334-4bf2-9fcb-0f1a06ac1466",
   "metadata": {},
   "outputs": [],
   "source": [
    "# maybe you should make the animation slower and the graph scale to be lower so it goes higher"
   ]
  }
 ],
 "metadata": {
  "kernelspec": {
   "display_name": "Python 3 (ipykernel)",
   "language": "python",
   "name": "python3"
  },
  "language_info": {
   "codemirror_mode": {
    "name": "ipython",
    "version": 3
   },
   "file_extension": ".py",
   "mimetype": "text/x-python",
   "name": "python",
   "nbconvert_exporter": "python",
   "pygments_lexer": "ipython3",
   "version": "3.9.13"
  }
 },
 "nbformat": 4,
 "nbformat_minor": 5
}

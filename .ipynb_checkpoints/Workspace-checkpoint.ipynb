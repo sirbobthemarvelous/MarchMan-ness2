{
 "cells": [
  {
   "cell_type": "markdown",
   "id": "11814068-5c4e-469e-94c7-d811c3b88333",
   "metadata": {},
   "source": [
    "# This is where you import libraries + csv Data"
   ]
  },
  {
   "cell_type": "code",
   "execution_count": 1,
   "id": "8a852a6a-4d3c-430d-a310-8e0ad2943985",
   "metadata": {},
   "outputs": [],
   "source": [
    "#!pip3 install pandas"
   ]
  },
  {
   "cell_type": "code",
   "execution_count": 2,
   "id": "1e5dea13-53e9-44b0-a1c9-fee45c044101",
   "metadata": {},
   "outputs": [],
   "source": [
    "#!pip3 install numpy"
   ]
  },
  {
   "cell_type": "code",
   "execution_count": 3,
   "id": "455d2145-d051-43f3-a97c-97cf584f2e2e",
   "metadata": {},
   "outputs": [],
   "source": [
    "#!pip3 install matplotlib"
   ]
  },
  {
   "cell_type": "code",
   "execution_count": 4,
   "id": "f81a9717-6deb-48c5-92f1-7d6d56c9d4a8",
   "metadata": {},
   "outputs": [],
   "source": [
    "#!pip3 install PyQt5"
   ]
  },
  {
   "cell_type": "code",
   "execution_count": 5,
   "id": "7e8e56a9-c60f-4654-bf2b-ad84418bdeba",
   "metadata": {},
   "outputs": [],
   "source": [
    "#!pip3 install seaborn"
   ]
  },
  {
   "cell_type": "code",
   "execution_count": 6,
   "id": "ec665f78-f639-4239-83e5-92932916c494",
   "metadata": {},
   "outputs": [],
   "source": [
    "import pandas as pd"
   ]
  },
  {
   "cell_type": "code",
   "execution_count": 7,
   "id": "fb65d77c-f18f-4374-81e6-02e9f59a5ec5",
   "metadata": {},
   "outputs": [
    {
     "data": {
      "text/html": [
       "<div>\n",
       "<style scoped>\n",
       "    .dataframe tbody tr th:only-of-type {\n",
       "        vertical-align: middle;\n",
       "    }\n",
       "\n",
       "    .dataframe tbody tr th {\n",
       "        vertical-align: top;\n",
       "    }\n",
       "\n",
       "    .dataframe thead th {\n",
       "        text-align: right;\n",
       "    }\n",
       "</style>\n",
       "<table border=\"1\" class=\"dataframe\">\n",
       "  <thead>\n",
       "    <tr style=\"text-align: right;\">\n",
       "      <th></th>\n",
       "      <th>Timestamp</th>\n",
       "      <th>Unnamed: 1</th>\n",
       "      <th>Unnamed: 2</th>\n",
       "    </tr>\n",
       "  </thead>\n",
       "  <tbody>\n",
       "    <tr>\n",
       "      <th>0</th>\n",
       "      <td>4/11/2024 7:50:37</td>\n",
       "      <td>Toast [Where the Demon Lurks]</td>\n",
       "      <td>Oswald [Eden's Reach]</td>\n",
       "    </tr>\n",
       "    <tr>\n",
       "      <th>1</th>\n",
       "      <td>4/11/2024 7:52:19</td>\n",
       "      <td>Toast [Where the Demon Lurks]</td>\n",
       "      <td>Oswald [Eden's Reach]</td>\n",
       "    </tr>\n",
       "    <tr>\n",
       "      <th>2</th>\n",
       "      <td>4/11/2024 7:53:03</td>\n",
       "      <td>Toast [Where the Demon Lurks]</td>\n",
       "      <td>Oswald [Eden's Reach]</td>\n",
       "    </tr>\n",
       "    <tr>\n",
       "      <th>3</th>\n",
       "      <td>4/11/2024 7:53:30</td>\n",
       "      <td>Toast [Where the Demon Lurks]</td>\n",
       "      <td>Superfang [Super-Nova]</td>\n",
       "    </tr>\n",
       "    <tr>\n",
       "      <th>4</th>\n",
       "      <td>4/11/2024 7:55:15</td>\n",
       "      <td>Dave [Chord Progressions]</td>\n",
       "      <td>Superfang [Super-Nova]</td>\n",
       "    </tr>\n",
       "    <tr>\n",
       "      <th>...</th>\n",
       "      <td>...</td>\n",
       "      <td>...</td>\n",
       "      <td>...</td>\n",
       "    </tr>\n",
       "    <tr>\n",
       "      <th>107</th>\n",
       "      <td>4/15/2024 8:34:35</td>\n",
       "      <td>Toast [Where the Demon Lurks]</td>\n",
       "      <td>Oswald [Eden's Reach]</td>\n",
       "    </tr>\n",
       "    <tr>\n",
       "      <th>108</th>\n",
       "      <td>4/15/2024 8:48:07</td>\n",
       "      <td>Toast [Where the Demon Lurks]</td>\n",
       "      <td>Oswald [Eden's Reach]</td>\n",
       "    </tr>\n",
       "    <tr>\n",
       "      <th>109</th>\n",
       "      <td>4/15/2024 9:23:16</td>\n",
       "      <td>Toast [Where the Demon Lurks]</td>\n",
       "      <td>Oswald [Eden's Reach]</td>\n",
       "    </tr>\n",
       "    <tr>\n",
       "      <th>110</th>\n",
       "      <td>4/15/2024 11:51:51</td>\n",
       "      <td>Dave [Chord Progressions]</td>\n",
       "      <td>Oswald [Eden's Reach]</td>\n",
       "    </tr>\n",
       "    <tr>\n",
       "      <th>111</th>\n",
       "      <td>4/15/2024 12:44:22</td>\n",
       "      <td>Toast [Where the Demon Lurks]</td>\n",
       "      <td>Oswald [Eden's Reach]</td>\n",
       "    </tr>\n",
       "  </tbody>\n",
       "</table>\n",
       "<p>112 rows × 3 columns</p>\n",
       "</div>"
      ],
      "text/plain": [
       "              Timestamp                     Unnamed: 1              Unnamed: 2\n",
       "0     4/11/2024 7:50:37  Toast [Where the Demon Lurks]   Oswald [Eden's Reach]\n",
       "1     4/11/2024 7:52:19  Toast [Where the Demon Lurks]   Oswald [Eden's Reach]\n",
       "2     4/11/2024 7:53:03  Toast [Where the Demon Lurks]   Oswald [Eden's Reach]\n",
       "3     4/11/2024 7:53:30  Toast [Where the Demon Lurks]  Superfang [Super-Nova]\n",
       "4     4/11/2024 7:55:15      Dave [Chord Progressions]  Superfang [Super-Nova]\n",
       "..                  ...                            ...                     ...\n",
       "107   4/15/2024 8:34:35  Toast [Where the Demon Lurks]   Oswald [Eden's Reach]\n",
       "108   4/15/2024 8:48:07  Toast [Where the Demon Lurks]   Oswald [Eden's Reach]\n",
       "109   4/15/2024 9:23:16  Toast [Where the Demon Lurks]   Oswald [Eden's Reach]\n",
       "110  4/15/2024 11:51:51      Dave [Chord Progressions]   Oswald [Eden's Reach]\n",
       "111  4/15/2024 12:44:22  Toast [Where the Demon Lurks]   Oswald [Eden's Reach]\n",
       "\n",
       "[112 rows x 3 columns]"
      ]
     },
     "execution_count": 7,
     "metadata": {},
     "output_type": "execute_result"
    }
   ],
   "source": [
    "df = pd.read_csv('./csvData/MiddleHugger4.csv')\n",
    "df"
   ]
  },
  {
   "cell_type": "markdown",
   "id": "86b5c6eb-297a-4a5a-a31c-f7bfc8e4ac70",
   "metadata": {},
   "source": [
    "# This is where you Create the Lists"
   ]
  },
  {
   "cell_type": "code",
   "execution_count": 8,
   "id": "1dce004e-43ce-4200-9b46-e9b976bf1ac3",
   "metadata": {},
   "outputs": [
    {
     "data": {
      "text/plain": [
       "0      Toast [Where the Demon Lurks]\n",
       "1      Toast [Where the Demon Lurks]\n",
       "2      Toast [Where the Demon Lurks]\n",
       "3      Toast [Where the Demon Lurks]\n",
       "4          Dave [Chord Progressions]\n",
       "                   ...              \n",
       "107    Toast [Where the Demon Lurks]\n",
       "108    Toast [Where the Demon Lurks]\n",
       "109    Toast [Where the Demon Lurks]\n",
       "110        Dave [Chord Progressions]\n",
       "111    Toast [Where the Demon Lurks]\n",
       "Name: Unnamed: 1, Length: 112, dtype: object"
      ]
     },
     "execution_count": 8,
     "metadata": {},
     "output_type": "execute_result"
    }
   ],
   "source": [
    "match1 = df[\"Unnamed: 1\"]\n",
    "match1"
   ]
  },
  {
   "cell_type": "code",
   "execution_count": 9,
   "id": "d9550534-a9a3-4b80-afdf-9af8f64af311",
   "metadata": {},
   "outputs": [
    {
     "name": "stdout",
     "output_type": "stream",
     "text": [
      "[1, 2, 3, 4, 4, 4, 5, 6, 7, 7, 8, 8, 9, 9, 9, 10, 11, 11, 12, 12, 12, 12, 13, 13, 13, 14, 15, 16, 16, 17, 17, 17, 17, 18, 18, 18, 18, 18, 18, 19, 19, 20, 20, 21, 22, 22, 22, 22, 22, 22, 23, 23, 23, 24, 24, 25, 25, 26, 27, 28, 28, 29, 30, 30, 30, 31, 32, 32, 33, 34, 35, 36, 36, 37, 37, 38, 39, 40, 40, 40, 40, 40, 40, 40, 40, 40, 41, 42, 43, 43, 43, 43, 43, 44, 45, 46, 47, 48, 49, 49, 49, 49, 49, 50, 51, 52, 53, 54, 55, 56, 56, 57]\n"
     ]
    }
   ],
   "source": [
    "oneList = []\n",
    "oneCount = 0\n",
    "for index, value in match1.items():\n",
    "    if(value == \"Toast [Where the Demon Lurks]\"):\n",
    "        oneCount+=1\n",
    "    oneList.append(oneCount)\n",
    "    \n",
    "print(oneList)"
   ]
  },
  {
   "cell_type": "code",
   "execution_count": 10,
   "id": "0a97939e-fe54-4d5f-8bbd-9423322827c3",
   "metadata": {},
   "outputs": [
    {
     "name": "stdout",
     "output_type": "stream",
     "text": [
      "[0, 0, 0, 0, 1, 2, 2, 2, 2, 3, 3, 4, 4, 5, 6, 6, 6, 7, 7, 8, 9, 10, 10, 11, 12, 12, 12, 12, 13, 13, 14, 15, 16, 16, 17, 18, 19, 20, 21, 21, 22, 22, 23, 23, 23, 24, 25, 26, 27, 28, 28, 29, 30, 30, 31, 31, 32, 32, 32, 32, 33, 33, 33, 34, 35, 35, 35, 36, 36, 36, 36, 36, 37, 37, 38, 38, 38, 38, 39, 40, 41, 42, 43, 44, 45, 46, 46, 46, 46, 46, 47, 48, 49, 49, 49, 49, 49, 49, 49, 50, 51, 52, 53, 53, 53, 53, 53, 53, 53, 53, 54, 54]\n"
     ]
    }
   ],
   "source": [
    "twoList = []\n",
    "twoCount = 0\n",
    "for index, value in match1.items():\n",
    "    if(value == \"Dave [Chord Progressions]\"):\n",
    "        twoCount+=1\n",
    "    twoList.append(twoCount)\n",
    "    \n",
    "print(twoList)"
   ]
  },
  {
   "cell_type": "code",
   "execution_count": 11,
   "id": "37423924-2ca0-4b85-882d-97e7d7a5a668",
   "metadata": {},
   "outputs": [
    {
     "name": "stdout",
     "output_type": "stream",
     "text": [
      "[1, 2, 3, 4, 5, 6, 7, 8, 9, 10, 11, 12, 13, 14, 15, 16, 17, 18, 19, 20, 21, 22, 23, 24, 25, 26, 27, 28, 29, 30, 31, 32, 33, 34, 35, 36, 37, 38, 39, 40, 41, 42, 43, 44, 45, 46, 47, 48, 49, 50, 51, 52, 53, 54, 55, 56, 57, 58, 59, 60, 61, 62, 63, 64, 65, 66, 67, 68, 69, 70, 71, 72, 73, 74, 75, 76, 77, 78, 79, 80, 81, 82, 83, 84, 85, 86, 87, 88, 89, 90, 91, 92, 93, 94, 95, 96, 97, 98, 99, 100, 101, 102, 103, 104, 105, 106, 107, 108, 109, 110, 111, 112]\n"
     ]
    }
   ],
   "source": [
    "x = []\n",
    "for i in range(112):\n",
    "    x.append(i+1)\n",
    "print(x)"
   ]
  },
  {
   "cell_type": "code",
   "execution_count": 12,
   "id": "d5cfa190-92a0-4074-85a9-0122a5f507fc",
   "metadata": {},
   "outputs": [
    {
     "data": {
      "text/plain": [
       "0       Oswald [Eden's Reach]\n",
       "1       Oswald [Eden's Reach]\n",
       "2       Oswald [Eden's Reach]\n",
       "3      Superfang [Super-Nova]\n",
       "4      Superfang [Super-Nova]\n",
       "                ...          \n",
       "107     Oswald [Eden's Reach]\n",
       "108     Oswald [Eden's Reach]\n",
       "109     Oswald [Eden's Reach]\n",
       "110     Oswald [Eden's Reach]\n",
       "111     Oswald [Eden's Reach]\n",
       "Name: Unnamed: 2, Length: 112, dtype: object"
      ]
     },
     "execution_count": 12,
     "metadata": {},
     "output_type": "execute_result"
    }
   ],
   "source": [
    "match2 = df[\"Unnamed: 2\"]\n",
    "match2"
   ]
  },
  {
   "cell_type": "code",
   "execution_count": 13,
   "id": "db350093-e066-4d22-96bb-3e20b27016dd",
   "metadata": {},
   "outputs": [
    {
     "name": "stdout",
     "output_type": "stream",
     "text": [
      "[0, 0, 0, 1, 2, 3, 3, 3, 4, 4, 4, 5, 5, 5, 5, 5, 5, 5, 6, 7, 7, 8, 9, 9, 9, 10, 11, 12, 13, 14, 15, 15, 16, 16, 16, 16, 17, 17, 17, 17, 18, 19, 19, 19, 19, 20, 20, 21, 22, 22, 23, 23, 23, 24, 25, 26, 26, 27, 27, 27, 27, 27, 27, 28, 29, 29, 30, 30, 30, 31, 31, 31, 32, 33, 34, 34, 34, 34, 35, 36, 37, 38, 38, 39, 39, 39, 39, 39, 40, 40, 40, 41, 41, 42, 42, 42, 42, 42, 43, 43, 43, 43, 43, 44, 44, 44, 44, 44, 44, 44, 44, 44]\n"
     ]
    }
   ],
   "source": [
    "threeList = []\n",
    "threeCount = 0\n",
    "for index, value in match2.items():\n",
    "    if(value == \"Superfang [Super-Nova]\"):\n",
    "        threeCount+=1\n",
    "    threeList.append(threeCount)\n",
    "    \n",
    "print(threeList)"
   ]
  },
  {
   "cell_type": "code",
   "execution_count": 14,
   "id": "1349f450-823a-46ba-a6c1-3ebed128bab7",
   "metadata": {},
   "outputs": [
    {
     "name": "stdout",
     "output_type": "stream",
     "text": [
      "[1, 2, 3, 3, 3, 3, 4, 5, 5, 5, 6, 6, 7, 8, 9, 10, 11, 12, 12, 12, 13, 13, 13, 14, 14, 14, 14, 14, 14, 14, 14, 15, 15, 16, 17, 18, 18, 19, 20, 21, 21, 21, 22, 23, 24, 24, 25, 25, 25, 26, 26, 27, 28, 28, 28, 28, 29, 29, 30, 31, 32, 33, 34, 34, 34, 35, 35, 36, 37, 37, 38, 39, 39, 39, 39, 39, 40, 41, 41, 41, 41, 41, 42, 42, 43, 44, 45, 46, 46, 47, 48, 48, 49, 49, 50, 51, 52, 53, 53, 54, 54, 55, 56, 56, 57, 58, 59, 60, 61, 62, 63, 64]\n"
     ]
    }
   ],
   "source": [
    "fourList = []\n",
    "fourCount = 0\n",
    "for index, value in match2.items():\n",
    "    if(value == \"Oswald [Eden's Reach]\"):\n",
    "        fourCount+=1\n",
    "    fourList.append(fourCount)\n",
    "    \n",
    "print(fourList)"
   ]
  },
  {
   "cell_type": "markdown",
   "id": "4a51537f-ce10-40b5-b4b8-693e8f105e60",
   "metadata": {},
   "source": [
    "# This is where you animate and Save to Gif"
   ]
  },
  {
   "cell_type": "code",
   "execution_count": 15,
   "id": "65bbbbee-b3e8-4c09-af88-1ff718f49080",
   "metadata": {},
   "outputs": [],
   "source": [
    "import matplotlib.pyplot as plt\n",
    "import matplotlib\n",
    "from matplotlib import animation\n",
    "from matplotlib.animation import FuncAnimation\n",
    "%matplotlib qt"
   ]
  },
  {
   "cell_type": "code",
   "execution_count": 16,
   "id": "eb810cf0-5e10-4006-aaa6-5216291373ff",
   "metadata": {},
   "outputs": [
    {
     "data": {
      "text/plain": [
       "(0.0, 113.0)"
      ]
     },
     "execution_count": 16,
     "metadata": {},
     "output_type": "execute_result"
    }
   ],
   "source": [
    "upDownB, upDownA, leftRight = [],[],[]\n",
    "fig = plt.figure(figsize=(10,8))\n",
    "axes = fig.add_subplot(1,1,1)\n",
    "axes.set_ylim(0, 112)\n",
    "axes.set_xlim(0, 113)\n",
    "#plt.style.use(\"seaborn\")"
   ]
  },
  {
   "cell_type": "code",
   "execution_count": 17,
   "id": "d9af05ae-f13a-44bb-be2a-0ad129f26365",
   "metadata": {},
   "outputs": [],
   "source": [
    "import seaborn as sns\n",
    "sns.set_theme()"
   ]
  },
  {
   "cell_type": "code",
   "execution_count": 18,
   "id": "7c7e1064-b2d6-4537-aa36-c800310eb4e9",
   "metadata": {},
   "outputs": [],
   "source": [
    "def animate(i):\n",
    "    if(i ==0): plt.legend()\n",
    "    \n",
    "    upDownB.append(twoList[i])\n",
    "    upDownA.append(oneList[i])\n",
    "    leftRight.append(x[i])\n",
    "    plt.plot(leftRight,upDownB, scaley=True, scalex=True,color = \"blue\", label = \"Dave\")\n",
    "    plt.plot(leftRight,upDownA, scaley=True, scalex=True,color=\"red\", label = \"Toast\")\n",
    "    if(i >= 113): \n",
    "        #FuncAnimation.pause()\n",
    "        plt.close()\n",
    "        return\n",
    "    \n",
    "    \n",
    "ani = FuncAnimation(fig=fig, func=animate, interval=800, save_count=113)\n",
    "#ani.show"
   ]
  },
  {
   "cell_type": "code",
   "execution_count": 19,
   "id": "b8ab281c-da57-4308-98f2-2b5d05eabe26",
   "metadata": {},
   "outputs": [
    {
     "name": "stderr",
     "output_type": "stream",
     "text": [
      "No artists with labels found to put in legend.  Note that artists whose label start with an underscore are ignored when legend() is called with no argument.\n"
     ]
    },
    {
     "ename": "IndexError",
     "evalue": "list index out of range",
     "output_type": "error",
     "traceback": [
      "\u001b[0;31m---------------------------------------------------------------------------\u001b[0m",
      "\u001b[0;31mIndexError\u001b[0m                                Traceback (most recent call last)",
      "Cell \u001b[0;32mIn[19], line 3\u001b[0m\n\u001b[1;32m      1\u001b[0m f \u001b[38;5;241m=\u001b[39m \u001b[38;5;124m\"\u001b[39m\u001b[38;5;124mmiddleHugger15.gif\u001b[39m\u001b[38;5;124m\"\u001b[39m \n\u001b[1;32m      2\u001b[0m writergif \u001b[38;5;241m=\u001b[39m animation\u001b[38;5;241m.\u001b[39mPillowWriter(fps\u001b[38;5;241m=\u001b[39m\u001b[38;5;241m10\u001b[39m) \n\u001b[0;32m----> 3\u001b[0m \u001b[43mani\u001b[49m\u001b[38;5;241;43m.\u001b[39;49m\u001b[43msave\u001b[49m\u001b[43m(\u001b[49m\u001b[43mf\u001b[49m\u001b[43m,\u001b[49m\u001b[43m \u001b[49m\u001b[43mwriter\u001b[49m\u001b[38;5;241;43m=\u001b[39;49m\u001b[43mwritergif\u001b[49m\u001b[43m)\u001b[49m\n\u001b[1;32m      4\u001b[0m \u001b[38;5;66;03m#Oh my goodness it still works despite the errors\u001b[39;00m\n",
      "File \u001b[0;32m/Library/Frameworks/Python.framework/Versions/3.12/lib/python3.12/site-packages/matplotlib/animation.py:1105\u001b[0m, in \u001b[0;36mAnimation.save\u001b[0;34m(self, filename, writer, fps, dpi, codec, bitrate, extra_args, metadata, extra_anim, savefig_kwargs, progress_callback)\u001b[0m\n\u001b[1;32m   1102\u001b[0m \u001b[38;5;28;01mfor\u001b[39;00m data \u001b[38;5;129;01min\u001b[39;00m \u001b[38;5;28mzip\u001b[39m(\u001b[38;5;241m*\u001b[39m[a\u001b[38;5;241m.\u001b[39mnew_saved_frame_seq() \u001b[38;5;28;01mfor\u001b[39;00m a \u001b[38;5;129;01min\u001b[39;00m all_anim]):\n\u001b[1;32m   1103\u001b[0m     \u001b[38;5;28;01mfor\u001b[39;00m anim, d \u001b[38;5;129;01min\u001b[39;00m \u001b[38;5;28mzip\u001b[39m(all_anim, data):\n\u001b[1;32m   1104\u001b[0m         \u001b[38;5;66;03m# TODO: See if turning off blit is really necessary\u001b[39;00m\n\u001b[0;32m-> 1105\u001b[0m         \u001b[43manim\u001b[49m\u001b[38;5;241;43m.\u001b[39;49m\u001b[43m_draw_next_frame\u001b[49m\u001b[43m(\u001b[49m\u001b[43md\u001b[49m\u001b[43m,\u001b[49m\u001b[43m \u001b[49m\u001b[43mblit\u001b[49m\u001b[38;5;241;43m=\u001b[39;49m\u001b[38;5;28;43;01mFalse\u001b[39;49;00m\u001b[43m)\u001b[49m\n\u001b[1;32m   1106\u001b[0m         \u001b[38;5;28;01mif\u001b[39;00m progress_callback \u001b[38;5;129;01mis\u001b[39;00m \u001b[38;5;129;01mnot\u001b[39;00m \u001b[38;5;28;01mNone\u001b[39;00m:\n\u001b[1;32m   1107\u001b[0m             progress_callback(frame_number, total_frames)\n",
      "File \u001b[0;32m/Library/Frameworks/Python.framework/Versions/3.12/lib/python3.12/site-packages/matplotlib/animation.py:1140\u001b[0m, in \u001b[0;36mAnimation._draw_next_frame\u001b[0;34m(self, framedata, blit)\u001b[0m\n\u001b[1;32m   1136\u001b[0m \u001b[38;5;28;01mdef\u001b[39;00m \u001b[38;5;21m_draw_next_frame\u001b[39m(\u001b[38;5;28mself\u001b[39m, framedata, blit):\n\u001b[1;32m   1137\u001b[0m     \u001b[38;5;66;03m# Breaks down the drawing of the next frame into steps of pre- and\u001b[39;00m\n\u001b[1;32m   1138\u001b[0m     \u001b[38;5;66;03m# post- draw, as well as the drawing of the frame itself.\u001b[39;00m\n\u001b[1;32m   1139\u001b[0m     \u001b[38;5;28mself\u001b[39m\u001b[38;5;241m.\u001b[39m_pre_draw(framedata, blit)\n\u001b[0;32m-> 1140\u001b[0m     \u001b[38;5;28;43mself\u001b[39;49m\u001b[38;5;241;43m.\u001b[39;49m\u001b[43m_draw_frame\u001b[49m\u001b[43m(\u001b[49m\u001b[43mframedata\u001b[49m\u001b[43m)\u001b[49m\n\u001b[1;32m   1141\u001b[0m     \u001b[38;5;28mself\u001b[39m\u001b[38;5;241m.\u001b[39m_post_draw(framedata, blit)\n",
      "File \u001b[0;32m/Library/Frameworks/Python.framework/Versions/3.12/lib/python3.12/site-packages/matplotlib/animation.py:1768\u001b[0m, in \u001b[0;36mFuncAnimation._draw_frame\u001b[0;34m(self, framedata)\u001b[0m\n\u001b[1;32m   1764\u001b[0m     \u001b[38;5;28mself\u001b[39m\u001b[38;5;241m.\u001b[39m_save_seq \u001b[38;5;241m=\u001b[39m \u001b[38;5;28mself\u001b[39m\u001b[38;5;241m.\u001b[39m_save_seq[\u001b[38;5;241m-\u001b[39m\u001b[38;5;28mself\u001b[39m\u001b[38;5;241m.\u001b[39m_save_count:]\n\u001b[1;32m   1766\u001b[0m \u001b[38;5;66;03m# Call the func with framedata and args. If blitting is desired,\u001b[39;00m\n\u001b[1;32m   1767\u001b[0m \u001b[38;5;66;03m# func needs to return a sequence of any artists that were modified.\u001b[39;00m\n\u001b[0;32m-> 1768\u001b[0m \u001b[38;5;28mself\u001b[39m\u001b[38;5;241m.\u001b[39m_drawn_artists \u001b[38;5;241m=\u001b[39m \u001b[38;5;28;43mself\u001b[39;49m\u001b[38;5;241;43m.\u001b[39;49m\u001b[43m_func\u001b[49m\u001b[43m(\u001b[49m\u001b[43mframedata\u001b[49m\u001b[43m,\u001b[49m\u001b[43m \u001b[49m\u001b[38;5;241;43m*\u001b[39;49m\u001b[38;5;28;43mself\u001b[39;49m\u001b[38;5;241;43m.\u001b[39;49m\u001b[43m_args\u001b[49m\u001b[43m)\u001b[49m\n\u001b[1;32m   1770\u001b[0m \u001b[38;5;28;01mif\u001b[39;00m \u001b[38;5;28mself\u001b[39m\u001b[38;5;241m.\u001b[39m_blit:\n\u001b[1;32m   1772\u001b[0m     err \u001b[38;5;241m=\u001b[39m \u001b[38;5;167;01mRuntimeError\u001b[39;00m(\u001b[38;5;124m'\u001b[39m\u001b[38;5;124mThe animation function must return a sequence \u001b[39m\u001b[38;5;124m'\u001b[39m\n\u001b[1;32m   1773\u001b[0m                        \u001b[38;5;124m'\u001b[39m\u001b[38;5;124mof Artist objects.\u001b[39m\u001b[38;5;124m'\u001b[39m)\n",
      "Cell \u001b[0;32mIn[18], line 4\u001b[0m, in \u001b[0;36manimate\u001b[0;34m(i)\u001b[0m\n\u001b[1;32m      1\u001b[0m \u001b[38;5;28;01mdef\u001b[39;00m \u001b[38;5;21manimate\u001b[39m(i):\n\u001b[1;32m      2\u001b[0m     \u001b[38;5;28;01mif\u001b[39;00m(i \u001b[38;5;241m==\u001b[39m\u001b[38;5;241m0\u001b[39m): plt\u001b[38;5;241m.\u001b[39mlegend()\n\u001b[0;32m----> 4\u001b[0m     upDownB\u001b[38;5;241m.\u001b[39mappend(\u001b[43mtwoList\u001b[49m\u001b[43m[\u001b[49m\u001b[43mi\u001b[49m\u001b[43m]\u001b[49m)\n\u001b[1;32m      5\u001b[0m     upDownA\u001b[38;5;241m.\u001b[39mappend(oneList[i])\n\u001b[1;32m      6\u001b[0m     leftRight\u001b[38;5;241m.\u001b[39mappend(x[i])\n",
      "\u001b[0;31mIndexError\u001b[0m: list index out of range"
     ]
    },
    {
     "name": "stderr",
     "output_type": "stream",
     "text": [
      "2024-04-16 09:09:37.116 Python[22699:20449249] WARNING: Secure coding is not enabled for restorable state! Enable secure coding by implementing NSApplicationDelegate.applicationSupportsSecureRestorableState: and returning YES.\n"
     ]
    }
   ],
   "source": [
    "f = \"middleHugger15.gif\" \n",
    "writergif = animation.PillowWriter(fps=10) \n",
    "ani.save(f, writer=writergif)\n",
    "#Oh my goodness it still works despite the errors"
   ]
  }
 ],
 "metadata": {
  "kernelspec": {
   "display_name": "Python 3 (ipykernel)",
   "language": "python",
   "name": "python3"
  },
  "language_info": {
   "codemirror_mode": {
    "name": "ipython",
    "version": 3
   },
   "file_extension": ".py",
   "mimetype": "text/x-python",
   "name": "python",
   "nbconvert_exporter": "python",
   "pygments_lexer": "ipython3",
   "version": "3.12.1"
  }
 },
 "nbformat": 4,
 "nbformat_minor": 5
}

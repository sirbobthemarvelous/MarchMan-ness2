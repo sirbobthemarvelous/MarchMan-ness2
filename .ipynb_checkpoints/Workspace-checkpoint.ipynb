{
 "cells": [
  {
   "cell_type": "markdown",
   "id": "11814068-5c4e-469e-94c7-d811c3b88333",
   "metadata": {},
   "source": [
    "# This is where you import libraries + csv Data"
   ]
  },
  {
   "cell_type": "code",
   "execution_count": 1,
   "id": "8a852a6a-4d3c-430d-a310-8e0ad2943985",
   "metadata": {},
   "outputs": [],
   "source": [
    "#!pip3 install pandas"
   ]
  },
  {
   "cell_type": "code",
   "execution_count": 2,
   "id": "1e5dea13-53e9-44b0-a1c9-fee45c044101",
   "metadata": {},
   "outputs": [],
   "source": [
    "#!pip3 install numpy"
   ]
  },
  {
   "cell_type": "code",
   "execution_count": 3,
   "id": "455d2145-d051-43f3-a97c-97cf584f2e2e",
   "metadata": {},
   "outputs": [],
   "source": [
    "#!pip3 install matplotlib"
   ]
  },
  {
   "cell_type": "code",
   "execution_count": 4,
   "id": "f81a9717-6deb-48c5-92f1-7d6d56c9d4a8",
   "metadata": {},
   "outputs": [],
   "source": [
    "#!pip3 install PyQt5"
   ]
  },
  {
   "cell_type": "code",
   "execution_count": 5,
   "id": "7e8e56a9-c60f-4654-bf2b-ad84418bdeba",
   "metadata": {},
   "outputs": [],
   "source": [
    "#!pip3 install seaborn"
   ]
  },
  {
   "cell_type": "code",
   "execution_count": 6,
   "id": "ec665f78-f639-4239-83e5-92932916c494",
   "metadata": {},
   "outputs": [],
   "source": [
    "import pandas as pd"
   ]
  },
  {
   "cell_type": "code",
   "execution_count": 7,
   "id": "fb65d77c-f18f-4374-81e6-02e9f59a5ec5",
   "metadata": {},
   "outputs": [
    {
     "data": {
      "text/html": [
       "<div>\n",
       "<style scoped>\n",
       "    .dataframe tbody tr th:only-of-type {\n",
       "        vertical-align: middle;\n",
       "    }\n",
       "\n",
       "    .dataframe tbody tr th {\n",
       "        vertical-align: top;\n",
       "    }\n",
       "\n",
       "    .dataframe thead th {\n",
       "        text-align: right;\n",
       "    }\n",
       "</style>\n",
       "<table border=\"1\" class=\"dataframe\">\n",
       "  <thead>\n",
       "    <tr style=\"text-align: right;\">\n",
       "      <th></th>\n",
       "      <th>Timestamp</th>\n",
       "      <th>Unnamed: 1</th>\n",
       "      <th>Unnamed: 2</th>\n",
       "    </tr>\n",
       "  </thead>\n",
       "  <tbody>\n",
       "    <tr>\n",
       "      <th>0</th>\n",
       "      <td>4/15/2024 8:01:31</td>\n",
       "      <td>Nik [The Smoke Room]</td>\n",
       "      <td>Lin Hu [Nekojishi]</td>\n",
       "    </tr>\n",
       "    <tr>\n",
       "      <th>1</th>\n",
       "      <td>4/15/2024 8:01:57</td>\n",
       "      <td>Damion [Remember The Flowers]</td>\n",
       "      <td>Lyall [Lyre]</td>\n",
       "    </tr>\n",
       "    <tr>\n",
       "      <th>2</th>\n",
       "      <td>4/15/2024 8:03:40</td>\n",
       "      <td>Nik [The Smoke Room]</td>\n",
       "      <td>Lin Hu [Nekojishi]</td>\n",
       "    </tr>\n",
       "    <tr>\n",
       "      <th>3</th>\n",
       "      <td>4/15/2024 8:04:24</td>\n",
       "      <td>Nik [The Smoke Room]</td>\n",
       "      <td>Lyall [Lyre]</td>\n",
       "    </tr>\n",
       "    <tr>\n",
       "      <th>4</th>\n",
       "      <td>4/15/2024 8:04:41</td>\n",
       "      <td>Nik [The Smoke Room]</td>\n",
       "      <td>Lin Hu [Nekojishi]</td>\n",
       "    </tr>\n",
       "    <tr>\n",
       "      <th>...</th>\n",
       "      <td>...</td>\n",
       "      <td>...</td>\n",
       "      <td>...</td>\n",
       "    </tr>\n",
       "    <tr>\n",
       "      <th>514</th>\n",
       "      <td>4/18/2024 20:50:17</td>\n",
       "      <td>Nik [The Smoke Room]</td>\n",
       "      <td>Lin Hu [Nekojishi]</td>\n",
       "    </tr>\n",
       "    <tr>\n",
       "      <th>515</th>\n",
       "      <td>4/19/2024 3:37:55</td>\n",
       "      <td>Nik [The Smoke Room]</td>\n",
       "      <td>Lin Hu [Nekojishi]</td>\n",
       "    </tr>\n",
       "    <tr>\n",
       "      <th>516</th>\n",
       "      <td>4/19/2024 3:38:06</td>\n",
       "      <td>Nik [The Smoke Room]</td>\n",
       "      <td>Lyall [Lyre]</td>\n",
       "    </tr>\n",
       "    <tr>\n",
       "      <th>517</th>\n",
       "      <td>4/19/2024 15:09:19</td>\n",
       "      <td>Nik [The Smoke Room]</td>\n",
       "      <td>Lyall [Lyre]</td>\n",
       "    </tr>\n",
       "    <tr>\n",
       "      <th>518</th>\n",
       "      <td>4/19/2024 21:48:51</td>\n",
       "      <td>Nik [The Smoke Room]</td>\n",
       "      <td>Lyall [Lyre]</td>\n",
       "    </tr>\n",
       "  </tbody>\n",
       "</table>\n",
       "<p>519 rows × 3 columns</p>\n",
       "</div>"
      ],
      "text/plain": [
       "              Timestamp                     Unnamed: 1          Unnamed: 2\n",
       "0     4/15/2024 8:01:31           Nik [The Smoke Room]  Lin Hu [Nekojishi]\n",
       "1     4/15/2024 8:01:57  Damion [Remember The Flowers]        Lyall [Lyre]\n",
       "2     4/15/2024 8:03:40           Nik [The Smoke Room]  Lin Hu [Nekojishi]\n",
       "3     4/15/2024 8:04:24           Nik [The Smoke Room]        Lyall [Lyre]\n",
       "4     4/15/2024 8:04:41           Nik [The Smoke Room]  Lin Hu [Nekojishi]\n",
       "..                  ...                            ...                 ...\n",
       "514  4/18/2024 20:50:17           Nik [The Smoke Room]  Lin Hu [Nekojishi]\n",
       "515   4/19/2024 3:37:55           Nik [The Smoke Room]  Lin Hu [Nekojishi]\n",
       "516   4/19/2024 3:38:06           Nik [The Smoke Room]        Lyall [Lyre]\n",
       "517  4/19/2024 15:09:19           Nik [The Smoke Room]        Lyall [Lyre]\n",
       "518  4/19/2024 21:48:51           Nik [The Smoke Room]        Lyall [Lyre]\n",
       "\n",
       "[519 rows x 3 columns]"
      ]
     },
     "execution_count": 7,
     "metadata": {},
     "output_type": "execute_result"
    }
   ],
   "source": [
    "df = pd.read_csv('./csvData/HeavyHugger4.csv')\n",
    "df"
   ]
  },
  {
   "cell_type": "markdown",
   "id": "86b5c6eb-297a-4a5a-a31c-f7bfc8e4ac70",
   "metadata": {},
   "source": [
    "# This is where you Create the Lists"
   ]
  },
  {
   "cell_type": "code",
   "execution_count": 8,
   "id": "1dce004e-43ce-4200-9b46-e9b976bf1ac3",
   "metadata": {},
   "outputs": [
    {
     "data": {
      "text/plain": [
       "0               Nik [The Smoke Room]\n",
       "1      Damion [Remember The Flowers]\n",
       "2               Nik [The Smoke Room]\n",
       "3               Nik [The Smoke Room]\n",
       "4               Nik [The Smoke Room]\n",
       "                   ...              \n",
       "514             Nik [The Smoke Room]\n",
       "515             Nik [The Smoke Room]\n",
       "516             Nik [The Smoke Room]\n",
       "517             Nik [The Smoke Room]\n",
       "518             Nik [The Smoke Room]\n",
       "Name: Unnamed: 1, Length: 519, dtype: object"
      ]
     },
     "execution_count": 8,
     "metadata": {},
     "output_type": "execute_result"
    }
   ],
   "source": [
    "match1 = df[\"Unnamed: 1\"]\n",
    "match1"
   ]
  },
  {
   "cell_type": "code",
   "execution_count": 9,
   "id": "d9550534-a9a3-4b80-afdf-9af8f64af311",
   "metadata": {},
   "outputs": [
    {
     "name": "stdout",
     "output_type": "stream",
     "text": [
      "[1, 1, 2, 3, 4, 4, 5, 5, 5, 5, 5, 5, 5, 6, 7, 8, 9, 10, 10, 10, 10, 11, 11, 11, 11, 12, 12, 12, 13, 14, 14, 14, 15, 15, 15, 15, 15, 16, 16, 16, 16, 16, 17, 17, 18, 18, 18, 18, 19, 19, 20, 21, 21, 22, 23, 24, 25, 25, 25, 26, 27, 27, 27, 27, 27, 27, 27, 27, 28, 28, 28, 28, 29, 29, 30, 31, 31, 32, 32, 32, 33, 34, 35, 36, 37, 37, 38, 38, 38, 39, 40, 41, 41, 42, 42, 43, 44, 44, 45, 45, 45, 45, 46, 47, 48, 48, 48, 49, 50, 51, 51, 52, 52, 53, 53, 54, 54, 54, 54, 55, 55, 55, 55, 56, 57, 58, 59, 59, 59, 59, 59, 60, 61, 62, 63, 63, 64, 65, 66, 67, 68, 69, 69, 69, 70, 71, 71, 72, 73, 74, 75, 75, 76, 77, 77, 78, 78, 78, 79, 79, 79, 80, 80, 81, 81, 81, 82, 83, 84, 85, 86, 86, 87, 87, 88, 89, 89, 90, 91, 91, 92, 93, 93, 93, 94, 94, 95, 95, 95, 95, 95, 96, 96, 97, 98, 98, 99, 100, 101, 101, 102, 103, 104, 104, 105, 106, 106, 106, 106, 106, 107, 108, 108, 109, 110, 110, 111, 112, 113, 114, 115, 116, 117, 117, 118, 118, 118, 119, 120, 120, 120, 120, 121, 121, 121, 121, 122, 122, 122, 123, 124, 124, 125, 126, 127, 128, 129, 129, 129, 130, 131, 132, 132, 133, 133, 134, 134, 134, 134, 134, 135, 136, 137, 138, 139, 139, 140, 140, 141, 141, 141, 141, 142, 143, 143, 144, 144, 145, 146, 147, 148, 148, 148, 149, 150, 151, 151, 152, 152, 153, 154, 155, 155, 155, 156, 157, 158, 159, 159, 160, 160, 161, 162, 162, 163, 163, 163, 164, 165, 166, 167, 168, 169, 170, 171, 171, 172, 173, 174, 175, 175, 176, 177, 177, 177, 177, 177, 178, 178, 179, 179, 179, 179, 180, 181, 181, 181, 181, 182, 183, 183, 184, 185, 186, 187, 188, 188, 189, 190, 191, 191, 192, 192, 193, 194, 194, 194, 194, 195, 195, 196, 196, 196, 197, 197, 198, 199, 199, 199, 200, 201, 202, 203, 203, 204, 205, 205, 206, 206, 207, 207, 207, 208, 208, 209, 210, 210, 210, 211, 211, 212, 213, 213, 213, 214, 215, 216, 216, 217, 218, 218, 218, 218, 219, 219, 220, 221, 221, 222, 222, 222, 223, 224, 224, 224, 225, 226, 227, 227, 227, 228, 229, 229, 230, 231, 232, 232, 233, 234, 235, 236, 237, 237, 238, 239, 239, 239, 240, 240, 240, 240, 240, 240, 240, 241, 242, 243, 244, 244, 244, 245, 245, 246, 247, 248, 248, 249, 250, 251, 251, 252, 253, 253, 254, 255, 256, 257, 258, 259, 260, 261, 262, 263, 264, 264, 265, 266, 266, 267, 267, 268, 268, 268, 269, 269, 269, 270, 270, 270, 271, 272, 272, 273, 273, 274, 275, 276, 276, 277, 278, 279, 279, 280, 281, 282, 282, 282, 283, 284, 285, 286, 286, 287, 288, 289, 290, 291, 292, 293]\n"
     ]
    }
   ],
   "source": [
    "oneList = []\n",
    "oneCount = 0\n",
    "for index, value in match1.items():\n",
    "    if(value == \"Nik [The Smoke Room]\"):\n",
    "        oneCount+=1\n",
    "    oneList.append(oneCount)\n",
    "    \n",
    "print(oneList)"
   ]
  },
  {
   "cell_type": "code",
   "execution_count": 10,
   "id": "0a97939e-fe54-4d5f-8bbd-9423322827c3",
   "metadata": {},
   "outputs": [
    {
     "name": "stdout",
     "output_type": "stream",
     "text": [
      "[0, 1, 1, 1, 1, 2, 2, 3, 4, 5, 6, 7, 8, 8, 8, 8, 8, 8, 9, 10, 10, 10, 11, 12, 13, 13, 14, 15, 15, 15, 16, 17, 17, 18, 19, 20, 21, 21, 22, 23, 24, 25, 25, 25, 25, 26, 27, 28, 28, 29, 29, 29, 30, 30, 30, 30, 30, 31, 32, 32, 32, 33, 34, 35, 36, 37, 38, 39, 39, 40, 41, 42, 42, 43, 43, 43, 44, 44, 45, 46, 46, 46, 46, 46, 46, 47, 47, 48, 49, 49, 49, 49, 50, 50, 51, 51, 51, 52, 52, 53, 54, 55, 55, 55, 55, 56, 57, 57, 57, 57, 58, 58, 59, 59, 60, 60, 61, 61, 62, 62, 63, 64, 65, 65, 65, 65, 65, 66, 67, 68, 69, 69, 69, 69, 69, 70, 70, 70, 70, 70, 70, 70, 71, 72, 72, 72, 73, 73, 73, 73, 73, 74, 74, 74, 75, 75, 76, 77, 77, 78, 79, 79, 80, 80, 80, 81, 81, 81, 81, 81, 81, 82, 82, 83, 83, 83, 84, 84, 84, 85, 85, 85, 86, 87, 87, 88, 88, 89, 90, 91, 92, 92, 93, 93, 93, 94, 94, 94, 94, 95, 95, 95, 95, 96, 96, 96, 97, 98, 99, 100, 100, 100, 101, 101, 101, 102, 102, 102, 102, 102, 102, 102, 102, 103, 103, 104, 105, 105, 105, 106, 107, 108, 108, 109, 110, 111, 111, 112, 113, 113, 113, 114, 114, 114, 114, 114, 114, 115, 116, 116, 116, 116, 117, 117, 118, 118, 119, 120, 121, 122, 122, 122, 122, 122, 122, 123, 123, 124, 124, 125, 126, 127, 127, 127, 128, 128, 129, 129, 129, 129, 129, 130, 131, 131, 131, 131, 132, 132, 133, 133, 133, 133, 134, 135, 135, 135, 135, 135, 136, 136, 136, 136, 136, 137, 137, 138, 139, 139, 139, 139, 139, 139, 139, 139, 139, 140, 140, 140, 140, 140, 141, 141, 141, 142, 143, 144, 145, 145, 146, 146, 147, 148, 149, 149, 149, 150, 151, 152, 152, 152, 153, 153, 153, 153, 153, 153, 154, 154, 154, 154, 155, 155, 156, 156, 156, 157, 158, 159, 159, 160, 160, 161, 162, 162, 163, 163, 163, 164, 165, 165, 165, 165, 165, 166, 166, 166, 167, 167, 168, 168, 169, 170, 170, 171, 171, 171, 172, 173, 173, 174, 174, 174, 175, 176, 176, 176, 176, 177, 177, 177, 178, 179, 180, 180, 181, 181, 181, 182, 182, 183, 184, 184, 184, 185, 186, 186, 186, 186, 187, 188, 188, 188, 189, 189, 189, 189, 190, 190, 190, 190, 190, 190, 191, 191, 191, 192, 193, 193, 194, 195, 196, 197, 198, 199, 199, 199, 199, 199, 200, 201, 201, 202, 202, 202, 202, 203, 203, 203, 203, 204, 204, 204, 205, 205, 205, 205, 205, 205, 205, 205, 205, 205, 205, 205, 206, 206, 206, 207, 207, 208, 208, 209, 210, 210, 211, 212, 212, 213, 213, 213, 213, 214, 214, 215, 215, 215, 215, 216, 216, 216, 216, 217, 217, 217, 217, 218, 219, 219, 219, 219, 219, 220, 220, 220, 220, 220, 220, 220, 220]\n"
     ]
    }
   ],
   "source": [
    "twoList = []\n",
    "twoCount = 0\n",
    "for index, value in match1.items():\n",
    "    if(value == \"Damion [Remember The Flowers]\"):\n",
    "        twoCount+=1\n",
    "    twoList.append(twoCount)\n",
    "    \n",
    "print(twoList)"
   ]
  },
  {
   "cell_type": "code",
   "execution_count": 11,
   "id": "37423924-2ca0-4b85-882d-97e7d7a5a668",
   "metadata": {},
   "outputs": [
    {
     "name": "stdout",
     "output_type": "stream",
     "text": [
      "[1, 2, 3, 4, 5, 6, 7, 8, 9, 10, 11, 12, 13, 14, 15, 16, 17, 18, 19, 20, 21, 22, 23, 24, 25, 26, 27, 28, 29, 30, 31, 32, 33, 34, 35, 36, 37, 38, 39, 40, 41, 42, 43, 44, 45, 46, 47, 48, 49, 50, 51, 52, 53, 54, 55, 56, 57, 58, 59, 60, 61, 62, 63, 64, 65, 66, 67, 68, 69, 70, 71, 72, 73, 74, 75, 76, 77, 78, 79, 80, 81, 82, 83, 84, 85, 86, 87, 88, 89, 90, 91, 92, 93, 94, 95, 96, 97, 98, 99, 100, 101, 102, 103, 104, 105, 106, 107, 108, 109, 110, 111, 112, 113, 114, 115, 116, 117, 118, 119, 120, 121, 122, 123, 124, 125, 126, 127, 128, 129, 130, 131, 132, 133, 134, 135, 136, 137, 138, 139, 140, 141, 142, 143, 144, 145, 146, 147, 148, 149, 150, 151, 152, 153, 154, 155, 156, 157, 158, 159, 160, 161, 162, 163, 164, 165, 166, 167, 168, 169, 170, 171, 172, 173, 174, 175, 176, 177, 178, 179, 180, 181, 182, 183, 184, 185, 186, 187, 188, 189, 190, 191, 192, 193, 194, 195, 196, 197, 198, 199, 200, 201, 202, 203, 204, 205, 206, 207, 208, 209, 210, 211, 212, 213, 214, 215, 216, 217, 218, 219, 220, 221, 222, 223, 224, 225, 226, 227, 228, 229, 230, 231, 232, 233, 234, 235, 236, 237, 238, 239, 240, 241, 242, 243, 244, 245, 246, 247, 248, 249, 250, 251, 252, 253, 254, 255, 256, 257, 258, 259, 260, 261, 262, 263, 264, 265, 266, 267, 268, 269, 270, 271, 272, 273, 274, 275, 276, 277, 278, 279, 280, 281, 282, 283, 284, 285, 286, 287, 288, 289, 290, 291, 292, 293, 294, 295, 296, 297, 298, 299, 300, 301, 302, 303, 304, 305, 306, 307, 308, 309, 310, 311, 312, 313, 314, 315, 316, 317, 318, 319, 320, 321, 322, 323, 324, 325, 326, 327, 328, 329, 330, 331, 332, 333, 334, 335, 336, 337, 338, 339, 340, 341, 342, 343, 344, 345, 346, 347, 348, 349, 350, 351, 352, 353, 354, 355, 356, 357, 358, 359, 360, 361, 362, 363, 364, 365, 366, 367, 368, 369, 370, 371, 372, 373, 374, 375, 376, 377, 378, 379, 380, 381, 382, 383, 384, 385, 386, 387, 388, 389, 390, 391, 392, 393, 394, 395, 396, 397, 398, 399, 400, 401, 402, 403, 404, 405, 406, 407, 408, 409, 410, 411, 412, 413, 414, 415, 416, 417, 418, 419, 420, 421, 422, 423, 424, 425, 426, 427, 428, 429, 430, 431, 432, 433, 434, 435, 436, 437, 438, 439, 440, 441, 442, 443, 444, 445, 446, 447, 448, 449, 450, 451, 452, 453, 454, 455, 456, 457, 458, 459, 460, 461, 462, 463, 464, 465, 466, 467, 468, 469, 470, 471, 472, 473, 474, 475, 476, 477, 478, 479, 480, 481, 482, 483, 484, 485, 486, 487, 488, 489, 490, 491, 492, 493, 494, 495, 496, 497, 498, 499, 500, 501, 502, 503, 504, 505, 506, 507, 508, 509, 510, 511, 512, 513, 514, 515, 516, 517, 518, 519]\n"
     ]
    }
   ],
   "source": [
    "x = []\n",
    "for i in range(519):\n",
    "    x.append(i+1)\n",
    "print(x)"
   ]
  },
  {
   "cell_type": "code",
   "execution_count": 12,
   "id": "d5cfa190-92a0-4074-85a9-0122a5f507fc",
   "metadata": {},
   "outputs": [
    {
     "data": {
      "text/plain": [
       "0      Lin Hu [Nekojishi]\n",
       "1            Lyall [Lyre]\n",
       "2      Lin Hu [Nekojishi]\n",
       "3            Lyall [Lyre]\n",
       "4      Lin Hu [Nekojishi]\n",
       "              ...        \n",
       "514    Lin Hu [Nekojishi]\n",
       "515    Lin Hu [Nekojishi]\n",
       "516          Lyall [Lyre]\n",
       "517          Lyall [Lyre]\n",
       "518          Lyall [Lyre]\n",
       "Name: Unnamed: 2, Length: 519, dtype: object"
      ]
     },
     "execution_count": 12,
     "metadata": {},
     "output_type": "execute_result"
    }
   ],
   "source": [
    "match2 = df[\"Unnamed: 2\"]\n",
    "match2"
   ]
  },
  {
   "cell_type": "code",
   "execution_count": 13,
   "id": "db350093-e066-4d22-96bb-3e20b27016dd",
   "metadata": {},
   "outputs": [
    {
     "name": "stdout",
     "output_type": "stream",
     "text": [
      "[0, 1, 1, 2, 2, 3, 4, 5, 5, 6, 7, 7, 8, 8, 9, 9, 9, 9, 10, 11, 11, 12, 13, 14, 14, 14, 15, 16, 17, 18, 19, 20, 21, 22, 23, 24, 24, 25, 26, 27, 28, 29, 30, 30, 31, 31, 32, 33, 34, 35, 35, 36, 37, 37, 38, 39, 39, 40, 41, 42, 43, 44, 44, 45, 45, 46, 47, 48, 49, 50, 51, 52, 52, 53, 54, 55, 55, 56, 57, 58, 59, 59, 59, 60, 61, 62, 63, 64, 64, 64, 65, 66, 67, 68, 69, 70, 71, 72, 73, 73, 74, 75, 76, 77, 78, 78, 79, 79, 80, 80, 81, 82, 83, 84, 85, 86, 87, 87, 87, 88, 88, 89, 90, 91, 92, 93, 94, 95, 95, 96, 97, 98, 98, 99, 100, 100, 101, 101, 101, 102, 102, 103, 103, 104, 105, 106, 107, 108, 109, 110, 111, 112, 112, 113, 113, 114, 115, 116, 116, 117, 118, 119, 119, 120, 121, 122, 123, 124, 125, 126, 127, 128, 129, 130, 130, 131, 132, 133, 134, 135, 135, 136, 136, 137, 137, 138, 139, 139, 139, 140, 141, 141, 142, 143, 144, 145, 145, 145, 145, 146, 146, 147, 147, 147, 148, 148, 149, 150, 151, 151, 151, 151, 151, 152, 153, 154, 155, 156, 156, 157, 158, 159, 159, 160, 161, 161, 161, 161, 162, 162, 163, 164, 164, 165, 166, 167, 167, 168, 169, 169, 170, 171, 172, 173, 174, 175, 175, 176, 176, 177, 177, 177, 178, 179, 180, 181, 181, 181, 182, 182, 182, 183, 183, 184, 184, 184, 185, 185, 186, 187, 188, 189, 189, 190, 191, 192, 192, 192, 193, 193, 194, 195, 196, 197, 197, 197, 198, 199, 200, 200, 200, 200, 201, 202, 203, 204, 205, 206, 206, 207, 208, 209, 209, 209, 209, 210, 211, 211, 211, 211, 212, 213, 213, 214, 215, 215, 215, 216, 216, 217, 217, 217, 218, 218, 219, 220, 221, 222, 222, 223, 223, 223, 224, 225, 225, 226, 227, 228, 229, 229, 229, 230, 231, 232, 233, 233, 233, 234, 235, 236, 237, 237, 238, 238, 239, 239, 239, 239, 239, 240, 241, 242, 243, 244, 245, 245, 246, 247, 247, 248, 249, 250, 250, 250, 251, 252, 253, 253, 253, 254, 254, 254, 254, 255, 255, 255, 255, 255, 255, 256, 256, 256, 257, 257, 257, 258, 259, 259, 259, 260, 260, 261, 262, 262, 263, 263, 264, 264, 265, 265, 266, 267, 268, 268, 269, 270, 271, 271, 272, 273, 273, 274, 275, 275, 276, 277, 278, 279, 280, 280, 281, 282, 283, 284, 284, 284, 285, 286, 287, 288, 289, 289, 290, 291, 291, 291, 292, 293, 293, 294, 294, 294, 294, 294, 295, 296, 297, 297, 297, 298, 298, 298, 299, 300, 300, 300, 300, 301, 302, 303, 303, 304, 304, 305, 306, 306, 307, 308, 308, 309, 309, 309, 310, 310, 311, 312, 313, 314, 314, 315, 315, 315, 315, 316, 316, 316, 316, 317, 318, 318, 318, 319, 320, 320, 320, 321, 322, 322, 323, 323, 323, 323, 323, 324, 324, 324, 325, 326, 327]\n"
     ]
    }
   ],
   "source": [
    "threeList = []\n",
    "threeCount = 0\n",
    "for index, value in match2.items():\n",
    "    if(value == \"Lyall [Lyre]\"):\n",
    "        threeCount+=1\n",
    "    threeList.append(threeCount)\n",
    "    \n",
    "print(threeList)"
   ]
  },
  {
   "cell_type": "code",
   "execution_count": 14,
   "id": "1349f450-823a-46ba-a6c1-3ebed128bab7",
   "metadata": {},
   "outputs": [
    {
     "name": "stdout",
     "output_type": "stream",
     "text": [
      "[1, 1, 2, 2, 3, 3, 3, 3, 4, 4, 4, 5, 5, 6, 6, 7, 8, 9, 9, 9, 10, 10, 10, 10, 11, 12, 12, 12, 12, 12, 12, 12, 12, 12, 12, 12, 13, 13, 13, 13, 13, 13, 13, 14, 14, 15, 15, 15, 15, 15, 16, 16, 16, 17, 17, 17, 18, 18, 18, 18, 18, 18, 19, 19, 20, 20, 20, 20, 20, 20, 20, 20, 21, 21, 21, 21, 22, 22, 22, 22, 22, 23, 24, 24, 24, 24, 24, 24, 25, 26, 26, 26, 26, 26, 26, 26, 26, 26, 26, 27, 27, 27, 27, 27, 27, 28, 28, 29, 29, 30, 30, 30, 30, 30, 30, 30, 30, 31, 32, 32, 33, 33, 33, 33, 33, 33, 33, 33, 34, 34, 34, 34, 35, 35, 35, 36, 36, 37, 38, 38, 39, 39, 40, 40, 40, 40, 40, 40, 40, 40, 40, 40, 41, 41, 42, 42, 42, 42, 43, 43, 43, 43, 44, 44, 44, 44, 44, 44, 44, 44, 44, 44, 44, 44, 45, 45, 45, 45, 45, 45, 46, 46, 47, 47, 48, 48, 48, 49, 50, 50, 50, 50, 50, 50, 50, 50, 51, 52, 53, 53, 54, 54, 55, 56, 56, 57, 57, 57, 57, 58, 59, 59, 60, 60, 60, 60, 60, 60, 61, 61, 61, 61, 62, 62, 62, 63, 64, 65, 65, 66, 66, 66, 67, 67, 67, 67, 68, 68, 68, 69, 69, 69, 69, 69, 69, 69, 70, 70, 71, 71, 72, 73, 73, 73, 73, 73, 74, 74, 74, 75, 76, 76, 77, 77, 78, 79, 79, 80, 80, 80, 80, 80, 81, 81, 81, 81, 82, 83, 83, 84, 84, 84, 84, 84, 85, 86, 86, 86, 86, 87, 87, 88, 88, 88, 88, 88, 88, 88, 89, 89, 89, 89, 90, 91, 92, 92, 92, 93, 94, 95, 95, 95, 96, 96, 96, 97, 98, 98, 99, 99, 100, 101, 101, 102, 102, 102, 102, 102, 103, 103, 104, 105, 105, 105, 106, 106, 106, 106, 106, 107, 108, 108, 108, 108, 108, 109, 110, 110, 110, 110, 110, 111, 111, 112, 112, 113, 114, 115, 116, 116, 116, 116, 116, 116, 116, 117, 117, 117, 118, 118, 118, 118, 119, 120, 120, 120, 120, 121, 122, 122, 123, 124, 125, 125, 126, 127, 128, 129, 130, 130, 131, 132, 132, 133, 134, 134, 134, 135, 136, 136, 137, 137, 137, 138, 138, 139, 139, 140, 140, 140, 140, 140, 140, 141, 141, 141, 141, 142, 142, 142, 143, 143, 143, 144, 144, 144, 144, 144, 144, 145, 145, 145, 145, 145, 146, 147, 147, 147, 147, 147, 147, 148, 148, 148, 149, 150, 150, 150, 151, 151, 152, 153, 154, 155, 155, 155, 155, 156, 157, 157, 158, 159, 159, 159, 160, 161, 162, 162, 162, 162, 163, 163, 164, 164, 164, 165, 165, 165, 166, 166, 167, 168, 168, 169, 169, 169, 169, 169, 170, 170, 171, 172, 173, 173, 174, 175, 176, 176, 176, 177, 178, 178, 178, 179, 180, 180, 180, 181, 181, 182, 183, 184, 185, 185, 186, 187, 187, 187, 187]\n"
     ]
    }
   ],
   "source": [
    "fourList = []\n",
    "fourCount = 0\n",
    "for index, value in match2.items():\n",
    "    if(value == \"Lin Hu [Nekojishi]\"):\n",
    "        fourCount+=1\n",
    "    fourList.append(fourCount)\n",
    "    \n",
    "print(fourList)"
   ]
  },
  {
   "cell_type": "markdown",
   "id": "4a51537f-ce10-40b5-b4b8-693e8f105e60",
   "metadata": {},
   "source": [
    "# This is where you animate and Save to Gif"
   ]
  },
  {
   "cell_type": "code",
   "execution_count": 15,
   "id": "65bbbbee-b3e8-4c09-af88-1ff718f49080",
   "metadata": {},
   "outputs": [],
   "source": [
    "import matplotlib.pyplot as plt\n",
    "import matplotlib\n",
    "from matplotlib import animation\n",
    "from matplotlib.animation import FuncAnimation\n",
    "%matplotlib qt"
   ]
  },
  {
   "cell_type": "code",
   "execution_count": 16,
   "id": "eb810cf0-5e10-4006-aaa6-5216291373ff",
   "metadata": {},
   "outputs": [
    {
     "data": {
      "text/plain": [
       "(0.0, 520.0)"
      ]
     },
     "execution_count": 16,
     "metadata": {},
     "output_type": "execute_result"
    }
   ],
   "source": [
    "upDownB, upDownA, leftRight = [],[],[]\n",
    "fig = plt.figure(figsize=(10,8))\n",
    "axes = fig.add_subplot(1,1,1)\n",
    "axes.set_ylim(0, 519)\n",
    "axes.set_xlim(0, 520)\n",
    "#plt.style.use(\"seaborn\")"
   ]
  },
  {
   "cell_type": "code",
   "execution_count": 17,
   "id": "d9af05ae-f13a-44bb-be2a-0ad129f26365",
   "metadata": {},
   "outputs": [],
   "source": [
    "import seaborn as sns\n",
    "sns.set_theme()"
   ]
  },
  {
   "cell_type": "code",
   "execution_count": 18,
   "id": "7c7e1064-b2d6-4537-aa36-c800310eb4e9",
   "metadata": {},
   "outputs": [],
   "source": [
    "def animate(i):\n",
    "    if(i ==0): plt.legend()\n",
    "    \n",
    "    upDownB.append(fourList[i])\n",
    "    upDownA.append(threeList[i])\n",
    "    leftRight.append(x[i])\n",
    "    plt.plot(leftRight,upDownB, scaley=True, scalex=True,color = \"blue\", label = \"Lin Hu\")\n",
    "    plt.plot(leftRight,upDownA, scaley=True, scalex=True,color=\"red\", label = \"Lyall\")\n",
    "    if(i >= 520): \n",
    "        #FuncAnimation.pause()\n",
    "        plt.close()\n",
    "        return\n",
    "    \n",
    "    \n",
    "ani = FuncAnimation(fig=fig, func=animate, interval=800, save_count=520)\n",
    "#ani.show"
   ]
  },
  {
   "cell_type": "code",
   "execution_count": 19,
   "id": "b8ab281c-da57-4308-98f2-2b5d05eabe26",
   "metadata": {},
   "outputs": [
    {
     "name": "stderr",
     "output_type": "stream",
     "text": [
      "No artists with labels found to put in legend.  Note that artists whose label start with an underscore are ignored when legend() is called with no argument.\n"
     ]
    },
    {
     "ename": "IndexError",
     "evalue": "list index out of range",
     "output_type": "error",
     "traceback": [
      "\u001b[0;31m---------------------------------------------------------------------------\u001b[0m",
      "\u001b[0;31mIndexError\u001b[0m                                Traceback (most recent call last)",
      "Cell \u001b[0;32mIn[19], line 3\u001b[0m\n\u001b[1;32m      1\u001b[0m f \u001b[38;5;241m=\u001b[39m \u001b[38;5;124m\"\u001b[39m\u001b[38;5;124mheavyHugger16.gif\u001b[39m\u001b[38;5;124m\"\u001b[39m \n\u001b[1;32m      2\u001b[0m writergif \u001b[38;5;241m=\u001b[39m animation\u001b[38;5;241m.\u001b[39mPillowWriter(fps\u001b[38;5;241m=\u001b[39m\u001b[38;5;241m15\u001b[39m) \n\u001b[0;32m----> 3\u001b[0m \u001b[43mani\u001b[49m\u001b[38;5;241;43m.\u001b[39;49m\u001b[43msave\u001b[49m\u001b[43m(\u001b[49m\u001b[43mf\u001b[49m\u001b[43m,\u001b[49m\u001b[43m \u001b[49m\u001b[43mwriter\u001b[49m\u001b[38;5;241;43m=\u001b[39;49m\u001b[43mwritergif\u001b[49m\u001b[43m)\u001b[49m\n\u001b[1;32m      4\u001b[0m \u001b[38;5;66;03m#Oh my goodness it still works despite the errors\u001b[39;00m\n",
      "File \u001b[0;32m/Library/Frameworks/Python.framework/Versions/3.12/lib/python3.12/site-packages/matplotlib/animation.py:1105\u001b[0m, in \u001b[0;36mAnimation.save\u001b[0;34m(self, filename, writer, fps, dpi, codec, bitrate, extra_args, metadata, extra_anim, savefig_kwargs, progress_callback)\u001b[0m\n\u001b[1;32m   1102\u001b[0m \u001b[38;5;28;01mfor\u001b[39;00m data \u001b[38;5;129;01min\u001b[39;00m \u001b[38;5;28mzip\u001b[39m(\u001b[38;5;241m*\u001b[39m[a\u001b[38;5;241m.\u001b[39mnew_saved_frame_seq() \u001b[38;5;28;01mfor\u001b[39;00m a \u001b[38;5;129;01min\u001b[39;00m all_anim]):\n\u001b[1;32m   1103\u001b[0m     \u001b[38;5;28;01mfor\u001b[39;00m anim, d \u001b[38;5;129;01min\u001b[39;00m \u001b[38;5;28mzip\u001b[39m(all_anim, data):\n\u001b[1;32m   1104\u001b[0m         \u001b[38;5;66;03m# TODO: See if turning off blit is really necessary\u001b[39;00m\n\u001b[0;32m-> 1105\u001b[0m         \u001b[43manim\u001b[49m\u001b[38;5;241;43m.\u001b[39;49m\u001b[43m_draw_next_frame\u001b[49m\u001b[43m(\u001b[49m\u001b[43md\u001b[49m\u001b[43m,\u001b[49m\u001b[43m \u001b[49m\u001b[43mblit\u001b[49m\u001b[38;5;241;43m=\u001b[39;49m\u001b[38;5;28;43;01mFalse\u001b[39;49;00m\u001b[43m)\u001b[49m\n\u001b[1;32m   1106\u001b[0m         \u001b[38;5;28;01mif\u001b[39;00m progress_callback \u001b[38;5;129;01mis\u001b[39;00m \u001b[38;5;129;01mnot\u001b[39;00m \u001b[38;5;28;01mNone\u001b[39;00m:\n\u001b[1;32m   1107\u001b[0m             progress_callback(frame_number, total_frames)\n",
      "File \u001b[0;32m/Library/Frameworks/Python.framework/Versions/3.12/lib/python3.12/site-packages/matplotlib/animation.py:1140\u001b[0m, in \u001b[0;36mAnimation._draw_next_frame\u001b[0;34m(self, framedata, blit)\u001b[0m\n\u001b[1;32m   1136\u001b[0m \u001b[38;5;28;01mdef\u001b[39;00m \u001b[38;5;21m_draw_next_frame\u001b[39m(\u001b[38;5;28mself\u001b[39m, framedata, blit):\n\u001b[1;32m   1137\u001b[0m     \u001b[38;5;66;03m# Breaks down the drawing of the next frame into steps of pre- and\u001b[39;00m\n\u001b[1;32m   1138\u001b[0m     \u001b[38;5;66;03m# post- draw, as well as the drawing of the frame itself.\u001b[39;00m\n\u001b[1;32m   1139\u001b[0m     \u001b[38;5;28mself\u001b[39m\u001b[38;5;241m.\u001b[39m_pre_draw(framedata, blit)\n\u001b[0;32m-> 1140\u001b[0m     \u001b[38;5;28;43mself\u001b[39;49m\u001b[38;5;241;43m.\u001b[39;49m\u001b[43m_draw_frame\u001b[49m\u001b[43m(\u001b[49m\u001b[43mframedata\u001b[49m\u001b[43m)\u001b[49m\n\u001b[1;32m   1141\u001b[0m     \u001b[38;5;28mself\u001b[39m\u001b[38;5;241m.\u001b[39m_post_draw(framedata, blit)\n",
      "File \u001b[0;32m/Library/Frameworks/Python.framework/Versions/3.12/lib/python3.12/site-packages/matplotlib/animation.py:1768\u001b[0m, in \u001b[0;36mFuncAnimation._draw_frame\u001b[0;34m(self, framedata)\u001b[0m\n\u001b[1;32m   1764\u001b[0m     \u001b[38;5;28mself\u001b[39m\u001b[38;5;241m.\u001b[39m_save_seq \u001b[38;5;241m=\u001b[39m \u001b[38;5;28mself\u001b[39m\u001b[38;5;241m.\u001b[39m_save_seq[\u001b[38;5;241m-\u001b[39m\u001b[38;5;28mself\u001b[39m\u001b[38;5;241m.\u001b[39m_save_count:]\n\u001b[1;32m   1766\u001b[0m \u001b[38;5;66;03m# Call the func with framedata and args. If blitting is desired,\u001b[39;00m\n\u001b[1;32m   1767\u001b[0m \u001b[38;5;66;03m# func needs to return a sequence of any artists that were modified.\u001b[39;00m\n\u001b[0;32m-> 1768\u001b[0m \u001b[38;5;28mself\u001b[39m\u001b[38;5;241m.\u001b[39m_drawn_artists \u001b[38;5;241m=\u001b[39m \u001b[38;5;28;43mself\u001b[39;49m\u001b[38;5;241;43m.\u001b[39;49m\u001b[43m_func\u001b[49m\u001b[43m(\u001b[49m\u001b[43mframedata\u001b[49m\u001b[43m,\u001b[49m\u001b[43m \u001b[49m\u001b[38;5;241;43m*\u001b[39;49m\u001b[38;5;28;43mself\u001b[39;49m\u001b[38;5;241;43m.\u001b[39;49m\u001b[43m_args\u001b[49m\u001b[43m)\u001b[49m\n\u001b[1;32m   1770\u001b[0m \u001b[38;5;28;01mif\u001b[39;00m \u001b[38;5;28mself\u001b[39m\u001b[38;5;241m.\u001b[39m_blit:\n\u001b[1;32m   1772\u001b[0m     err \u001b[38;5;241m=\u001b[39m \u001b[38;5;167;01mRuntimeError\u001b[39;00m(\u001b[38;5;124m'\u001b[39m\u001b[38;5;124mThe animation function must return a sequence \u001b[39m\u001b[38;5;124m'\u001b[39m\n\u001b[1;32m   1773\u001b[0m                        \u001b[38;5;124m'\u001b[39m\u001b[38;5;124mof Artist objects.\u001b[39m\u001b[38;5;124m'\u001b[39m)\n",
      "Cell \u001b[0;32mIn[18], line 4\u001b[0m, in \u001b[0;36manimate\u001b[0;34m(i)\u001b[0m\n\u001b[1;32m      1\u001b[0m \u001b[38;5;28;01mdef\u001b[39;00m \u001b[38;5;21manimate\u001b[39m(i):\n\u001b[1;32m      2\u001b[0m     \u001b[38;5;28;01mif\u001b[39;00m(i \u001b[38;5;241m==\u001b[39m\u001b[38;5;241m0\u001b[39m): plt\u001b[38;5;241m.\u001b[39mlegend()\n\u001b[0;32m----> 4\u001b[0m     upDownB\u001b[38;5;241m.\u001b[39mappend(\u001b[43mfourList\u001b[49m\u001b[43m[\u001b[49m\u001b[43mi\u001b[49m\u001b[43m]\u001b[49m)\n\u001b[1;32m      5\u001b[0m     upDownA\u001b[38;5;241m.\u001b[39mappend(threeList[i])\n\u001b[1;32m      6\u001b[0m     leftRight\u001b[38;5;241m.\u001b[39mappend(x[i])\n",
      "\u001b[0;31mIndexError\u001b[0m: list index out of range"
     ]
    },
    {
     "name": "stderr",
     "output_type": "stream",
     "text": [
      "2024-04-20 12:53:15.399 Python[44725:21283695] WARNING: Secure coding is not enabled for restorable state! Enable secure coding by implementing NSApplicationDelegate.applicationSupportsSecureRestorableState: and returning YES.\n"
     ]
    }
   ],
   "source": [
    "f = \"heavyHugger16.gif\" \n",
    "writergif = animation.PillowWriter(fps=15) \n",
    "ani.save(f, writer=writergif)\n",
    "#Oh my goodness it still works despite the errors"
   ]
  }
 ],
 "metadata": {
  "kernelspec": {
   "display_name": "Python 3 (ipykernel)",
   "language": "python",
   "name": "python3"
  },
  "language_info": {
   "codemirror_mode": {
    "name": "ipython",
    "version": 3
   },
   "file_extension": ".py",
   "mimetype": "text/x-python",
   "name": "python",
   "nbconvert_exporter": "python",
   "pygments_lexer": "ipython3",
   "version": "3.12.1"
  }
 },
 "nbformat": 4,
 "nbformat_minor": 5
}
